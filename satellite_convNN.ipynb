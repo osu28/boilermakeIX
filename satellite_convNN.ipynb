{
  "nbformat": 4,
  "nbformat_minor": 0,
  "metadata": {
    "colab": {
      "name": "satellite_convNN.ipynb",
      "provenance": [],
      "collapsed_sections": [],
      "include_colab_link": true
    },
    "kernelspec": {
      "name": "python3",
      "display_name": "Python 3"
    },
    "language_info": {
      "name": "python"
    }
  },
  "cells": [
    {
      "cell_type": "markdown",
      "metadata": {
        "id": "view-in-github",
        "colab_type": "text"
      },
      "source": [
        "<a href=\"https://colab.research.google.com/github/osu28/boilermakeIX/blob/main/satellite_convNN.ipynb\" target=\"_parent\"><img src=\"https://colab.research.google.com/assets/colab-badge.svg\" alt=\"Open In Colab\"/></a>"
      ]
    },
    {
      "cell_type": "code",
      "source": [
        "import os\n",
        "import cv2\n",
        "import numpy as np\n",
        "from tqdm import tqdm\n",
        "import glob"
      ],
      "metadata": {
        "id": "GvzOwfUlodyE"
      },
      "execution_count": 1,
      "outputs": []
    },
    {
      "cell_type": "code",
      "source": [
        "from google.colab import drive\n",
        "drive.mount('/content/drive')"
      ],
      "metadata": {
        "colab": {
          "base_uri": "https://localhost:8080/"
        },
        "id": "pNRnQjC3moeI",
        "outputId": "9547f92b-0592-45fd-c222-0f30d6a61218"
      },
      "execution_count": 2,
      "outputs": [
        {
          "output_type": "stream",
          "name": "stdout",
          "text": [
            "Mounted at /content/drive\n"
          ]
        }
      ]
    },
    {
      "cell_type": "code",
      "execution_count": 3,
      "metadata": {
        "id": "TCuhQVkAZH1t",
        "outputId": "1914d2fe-1950-466e-eab5-a966465f1aab",
        "colab": {
          "base_uri": "https://localhost:8080/"
        }
      },
      "outputs": [
        {
          "output_type": "stream",
          "name": "stdout",
          "text": [
            "Labels: drive/MyDrive/cities/new_york_city\n"
          ]
        },
        {
          "output_type": "stream",
          "name": "stderr",
          "text": [
            "100%|██████████| 20/20 [00:15<00:00,  1.33it/s]\n"
          ]
        },
        {
          "output_type": "stream",
          "name": "stdout",
          "text": [
            "Labels: drive/MyDrive/cities/austin\n"
          ]
        },
        {
          "output_type": "stream",
          "name": "stderr",
          "text": [
            "100%|██████████| 20/20 [00:16<00:00,  1.25it/s]"
          ]
        },
        {
          "output_type": "stream",
          "name": "stdout",
          "text": [
            "\n",
            "New York City:  20\n",
            "Austin:  20\n"
          ]
        },
        {
          "output_type": "stream",
          "name": "stderr",
          "text": [
            "\n",
            "/usr/local/lib/python3.7/dist-packages/numpy/core/_asarray.py:136: VisibleDeprecationWarning: Creating an ndarray from ragged nested sequences (which is a list-or-tuple of lists-or-tuples-or ndarrays with different lengths or shapes) is deprecated. If you meant to do this, you must specify 'dtype=object' when creating the ndarray\n",
            "  return array(a, dtype, copy=False, order=order, subok=True)\n"
          ]
        }
      ],
      "source": [
        "REBUILD_DATA = True\n",
        "class Compare():\n",
        "  IMG_SIZE = 50\n",
        "  new_york_city = \"drive/MyDrive/cities/new_york_city\"\n",
        "\n",
        "  austin = \"drive/MyDrive/cities/austin\"\n",
        "  LABELS = {new_york_city: 0, austin: 1}\n",
        "  training_data = []\n",
        "  new_york_city_count = 0\n",
        "  austin_count = 0  \n",
        "  \n",
        "  def make_training_data(self):\n",
        "    \n",
        "    for label in self.LABELS:\n",
        "      print(\"Labels: \" + label)\n",
        "\n",
        "      # images = glob.glob(label)\n",
        "      # print(\"IMG: \" + str(images))\n",
        "\n",
        "      for f in tqdm(os.listdir(label)):\n",
        "        \n",
        "        try:\n",
        "          path = os.path.join(label, f)\n",
        "          img = cv2.imread(path, cv2.IMREAD_GRAYSCALE)\n",
        "          img = cv2.resize(img, (self.IMG_SIZE, self.IMG_SIZE))\n",
        "          \n",
        "          self.training_data.append([np.array(img), np.eye(2)[self.LABELS[label]]])\n",
        "\n",
        "          if label == self.new_york_city:\n",
        "            self.new_york_city_count += 1\n",
        "          elif label == self.austin:\n",
        "            self.austin_count += 1\n",
        "        except Exception as e:\n",
        "          print(str(e))\n",
        "    np.random.shuffle(self.training_data)\n",
        "    np.save(\"training_data.npy\", self.training_data)\n",
        "    print(\"\")\n",
        "    print(\"New York City: \", self.new_york_city_count)\n",
        "    print(\"Austin: \", self.austin_count)\n",
        "\n",
        "if REBUILD_DATA:\n",
        "  compare = Compare()\n",
        "  compare.make_training_data()"
      ]
    },
    {
      "cell_type": "code",
      "source": [
        "training_data = np.load(\"training_data.npy\", allow_pickle=True)\n",
        "print(len(training_data))\n",
        "# print(training_data)"
      ],
      "metadata": {
        "id": "K8-d2ZQpl8jf",
        "colab": {
          "base_uri": "https://localhost:8080/"
        },
        "outputId": "0fe6f3d5-573b-4f58-826f-bde3c23ccf8d"
      },
      "execution_count": 4,
      "outputs": [
        {
          "output_type": "stream",
          "name": "stdout",
          "text": [
            "40\n"
          ]
        }
      ]
    },
    {
      "cell_type": "code",
      "source": [
        "import matplotlib.pyplot as plt\n",
        "plt.imshow(training_data[0][0], cmap=\"gray\")\n",
        "plt.show()"
      ],
      "metadata": {
        "colab": {
          "base_uri": "https://localhost:8080/",
          "height": 267
        },
        "id": "-ms3Vxz040W3",
        "outputId": "8542625d-a18b-45d7-9411-381272f56370"
      },
      "execution_count": 5,
      "outputs": [
        {
          "output_type": "display_data",
          "data": {
            "image/png": "[encoded data removed]",
            "text/plain": [
              "<Figure size 432x288 with 1 Axes>"
            ]
          },
          "metadata": {
            "needs_background": "light"
          }
        }
      ]
    },
    {
      "cell_type": "code",
      "source": [
        "import torch\n",
        "import torch.nn as nn\n",
        "import torch.nn.functional as F \n",
        "\n",
        "class Net(nn.Module):\n",
        "  def __init__(self):\n",
        "    super().__init__()\n",
        "    self.conv1 = nn.Conv2d(1, 32, 5) # 5x5 kernel to roll over features\n",
        "    self.conv2 = nn.Conv2d(32, 64, 5)\n",
        "    self.conv3 = nn.Conv2d(64, 128, 5)\n",
        "\n",
        "    x = torch.randn(50, 50).view(-1, 1, 50, 50)\n",
        "    self._to_linear = None\n",
        "    self.convs(x)\n",
        "    self.fc1 = nn.Linear(self._to_linear, 512)\n",
        "    self.fc2 = nn.Linear(512, 2)\n",
        "\n",
        "  def convs(self, x):\n",
        "    x = F.max_pool2d(F.relu(self.conv1(x)), (2, 2))\n",
        "    x = F.max_pool2d(F.relu(self.conv2(x)), (2, 2))\n",
        "    x = F.max_pool2d(F.relu(self.conv3(x)), (2, 2))\n",
        "\n",
        "    print(x[0].shape)\n",
        "    if self._to_linear is None:\n",
        "      self._to_linear = x[0].shape[0] * x[0].shape[1] * x[0].shape[2]\n",
        "    return x\n",
        "  \n",
        "  def forward(self, x):\n",
        "    x = self.convs(x)\n",
        "    x = x.view(-1, self._to_linear)\n",
        "    x = F.relu(self.fc1(x))\n",
        "    x = F.relu(self.fc2(x))\n",
        "    return F.softmax(x, dim=1)\n",
        "\n",
        "net = Net()"
      ],
      "metadata": {
        "colab": {
          "base_uri": "https://localhost:8080/"
        },
        "id": "To-kPotw50F_",
        "outputId": "bd809cea-b1ee-4176-a78b-a38ebf33283c"
      },
      "execution_count": 6,
      "outputs": [
        {
          "output_type": "stream",
          "name": "stdout",
          "text": [
            "torch.Size([128, 2, 2])\n"
          ]
        }
      ]
    },
    {
      "cell_type": "code",
      "source": [
        "# training\n",
        "\n",
        "import torch.optim as optim\n",
        "\n",
        "optimizer = optim.Adam(net.parameters(), lr=0.001)\n",
        "loss_function = nn.MSELoss()\n",
        "\n",
        "X = torch.Tensor([i[0] for i in training_data]).view(-1, 50, 50)\n",
        "X = X/255.0\n",
        "y = torch.Tensor([i[1] for i in training_data])\n",
        "\n",
        "VAL_PCT = 0.1 # test against 10% of our training data\n",
        "val_size = int(len(X) * VAL_PCT)\n",
        "print(val_size)"
      ],
      "metadata": {
        "colab": {
          "base_uri": "https://localhost:8080/"
        },
        "id": "0el1SoU0_y68",
        "outputId": "68e31c7f-692b-4e17-f2ae-6500621b6d17"
      },
      "execution_count": 7,
      "outputs": [
        {
          "output_type": "stream",
          "name": "stdout",
          "text": [
            "4\n"
          ]
        },
        {
          "output_type": "stream",
          "name": "stderr",
          "text": [
            "/usr/local/lib/python3.7/dist-packages/ipykernel_launcher.py:6: UserWarning: Creating a tensor from a list of numpy.ndarrays is extremely slow. Please consider converting the list to a single numpy.ndarray with numpy.array() before converting to a tensor. (Triggered internally at  ../torch/csrc/utils/tensor_new.cpp:201.)\n",
            "  \n"
          ]
        }
      ]
    },
    {
      "cell_type": "code",
      "source": [
        "train_X = X[:-val_size]\n",
        "train_y = y[:-val_size]\n",
        "\n",
        "test_X = X[:-val_size]\n",
        "test_y = y[:-val_size]\n"
      ],
      "metadata": {
        "id": "pjVrYq7xBdej"
      },
      "execution_count": 8,
      "outputs": []
    },
    {
      "cell_type": "code",
      "source": [
        "# train\n",
        "\n",
        "BATCH_SIZE = 2\n",
        "EPOCHS = 10\n",
        "\n",
        "for epoch in range(EPOCHS):\n",
        "    for i in tqdm(range(0, len(train_X), BATCH_SIZE)): # from 0, to the len of x, stepping BATCH_SIZE at a time. [:50] ..for now just to dev\n",
        "        #print(f\"{i}:{i+BATCH_SIZE}\")\n",
        "        batch_X = train_X[i:i+BATCH_SIZE].view(-1, 1, 50, 50)\n",
        "        batch_y = train_y[i:i+BATCH_SIZE]\n",
        "\n",
        "        net.zero_grad()\n",
        "\n",
        "        outputs = net(batch_X)\n",
        "        loss = loss_function(outputs, batch_y)\n",
        "        loss.backward()\n",
        "        optimizer.step()    # Does the update\n",
        "\n",
        "    print(f\"Epoch: {epoch}. Loss: {loss}\")"
      ],
      "metadata": {
        "colab": {
          "base_uri": "https://localhost:8080/"
        },
        "id": "Wc_zsjI-BxaG",
        "outputId": "a5482a5a-ce21-4e85-8f81-783def3e9689"
      },
      "execution_count": 14,
      "outputs": [
        {
          "output_type": "stream",
          "name": "stderr",
          "text": [
            " 28%|██▊       | 5/18 [00:00<00:00, 49.26it/s]"
          ]
        },
        {
          "output_type": "stream",
          "name": "stdout",
          "text": [
            "torch.Size([128, 2, 2])\n",
            "torch.Size([128, 2, 2])\n",
            "torch.Size([128, 2, 2])\n",
            "torch.Size([128, 2, 2])\n",
            "torch.Size([128, 2, 2])\n",
            "torch.Size([128, 2, 2])\n",
            "torch.Size([128, 2, 2])\n",
            "torch.Size([128, 2, 2])\n",
            "torch.Size([128, 2, 2])\n",
            "torch.Size([128, 2, 2])\n"
          ]
        },
        {
          "output_type": "stream",
          "name": "stderr",
          "text": [
            "100%|██████████| 18/18 [00:00<00:00, 47.16it/s]\n"
          ]
        },
        {
          "output_type": "stream",
          "name": "stdout",
          "text": [
            "torch.Size([128, 2, 2])\n",
            "torch.Size([128, 2, 2])\n",
            "torch.Size([128, 2, 2])\n",
            "torch.Size([128, 2, 2])\n",
            "torch.Size([128, 2, 2])\n",
            "torch.Size([128, 2, 2])\n",
            "torch.Size([128, 2, 2])\n",
            "torch.Size([128, 2, 2])\n",
            "Epoch: 0. Loss: 0.25\n"
          ]
        },
        {
          "output_type": "stream",
          "name": "stderr",
          "text": [
            "\r  0%|          | 0/18 [00:00<?, ?it/s]"
          ]
        },
        {
          "output_type": "stream",
          "name": "stdout",
          "text": [
            "torch.Size([128, 2, 2])\n"
          ]
        },
        {
          "output_type": "stream",
          "name": "stderr",
          "text": [
            " 56%|█████▌    | 10/18 [00:00<00:00, 48.60it/s]"
          ]
        },
        {
          "output_type": "stream",
          "name": "stdout",
          "text": [
            "torch.Size([128, 2, 2])\n",
            "torch.Size([128, 2, 2])\n",
            "torch.Size([128, 2, 2])\n",
            "torch.Size([128, 2, 2])\n",
            "torch.Size([128, 2, 2])\n",
            "torch.Size([128, 2, 2])\n",
            "torch.Size([128, 2, 2])\n",
            "torch.Size([128, 2, 2])\n",
            "torch.Size([128, 2, 2])\n",
            "torch.Size([128, 2, 2])\n"
          ]
        },
        {
          "output_type": "stream",
          "name": "stderr",
          "text": [
            "100%|██████████| 18/18 [00:00<00:00, 47.73it/s]\n"
          ]
        },
        {
          "output_type": "stream",
          "name": "stdout",
          "text": [
            "torch.Size([128, 2, 2])\n",
            "torch.Size([128, 2, 2])\n",
            "torch.Size([128, 2, 2])\n",
            "torch.Size([128, 2, 2])\n",
            "torch.Size([128, 2, 2])\n",
            "torch.Size([128, 2, 2])\n",
            "torch.Size([128, 2, 2])\n",
            "Epoch: 1. Loss: 0.25\n"
          ]
        },
        {
          "output_type": "stream",
          "name": "stderr",
          "text": [
            "\r  0%|          | 0/18 [00:00<?, ?it/s]"
          ]
        },
        {
          "output_type": "stream",
          "name": "stdout",
          "text": [
            "torch.Size([128, 2, 2])\n",
            "torch.Size([128, 2, 2])\n",
            "torch.Size([128, 2, 2])\n"
          ]
        },
        {
          "output_type": "stream",
          "name": "stderr",
          "text": [
            " 56%|█████▌    | 10/18 [00:00<00:00, 48.37it/s]"
          ]
        },
        {
          "output_type": "stream",
          "name": "stdout",
          "text": [
            "torch.Size([128, 2, 2])\n",
            "torch.Size([128, 2, 2])\n",
            "torch.Size([128, 2, 2])\n",
            "torch.Size([128, 2, 2])\n",
            "torch.Size([128, 2, 2])\n",
            "torch.Size([128, 2, 2])\n",
            "torch.Size([128, 2, 2])\n",
            "torch.Size([128, 2, 2])\n",
            "torch.Size([128, 2, 2])\n",
            "torch.Size([128, 2, 2])\n"
          ]
        },
        {
          "output_type": "stream",
          "name": "stderr",
          "text": [
            "100%|██████████| 18/18 [00:00<00:00, 47.15it/s]\n"
          ]
        },
        {
          "output_type": "stream",
          "name": "stdout",
          "text": [
            "torch.Size([128, 2, 2])\n",
            "torch.Size([128, 2, 2])\n",
            "torch.Size([128, 2, 2])\n",
            "torch.Size([128, 2, 2])\n",
            "torch.Size([128, 2, 2])\n",
            "Epoch: 2. Loss: 0.25\n"
          ]
        },
        {
          "output_type": "stream",
          "name": "stderr",
          "text": [
            "\r  0%|          | 0/18 [00:00<?, ?it/s]"
          ]
        },
        {
          "output_type": "stream",
          "name": "stdout",
          "text": [
            "torch.Size([128, 2, 2])\n",
            "torch.Size([128, 2, 2])\n",
            "torch.Size([128, 2, 2])\n",
            "torch.Size([128, 2, 2])\n",
            "torch.Size([128, 2, 2])\n"
          ]
        },
        {
          "output_type": "stream",
          "name": "stderr",
          "text": [
            "\r 28%|██▊       | 5/18 [00:00<00:00, 44.73it/s]"
          ]
        },
        {
          "output_type": "stream",
          "name": "stdout",
          "text": [
            "torch.Size([128, 2, 2])\n",
            "torch.Size([128, 2, 2])\n",
            "torch.Size([128, 2, 2])\n",
            "torch.Size([128, 2, 2])\n",
            "torch.Size([128, 2, 2])"
          ]
        },
        {
          "output_type": "stream",
          "name": "stderr",
          "text": [
            "\r 56%|█████▌    | 10/18 [00:00<00:00, 44.10it/s]"
          ]
        },
        {
          "output_type": "stream",
          "name": "stdout",
          "text": [
            "\n",
            "torch.Size([128, 2, 2])\n",
            "torch.Size([128, 2, 2])\n",
            "torch.Size([128, 2, 2])\n",
            "torch.Size([128, 2, 2])\n"
          ]
        },
        {
          "output_type": "stream",
          "name": "stderr",
          "text": [
            "100%|██████████| 18/18 [00:00<00:00, 43.89it/s]"
          ]
        },
        {
          "output_type": "stream",
          "name": "stdout",
          "text": [
            "torch.Size([128, 2, 2])\n",
            "torch.Size([128, 2, 2])\n",
            "torch.Size([128, 2, 2])\n",
            "torch.Size([128, 2, 2])\n"
          ]
        },
        {
          "output_type": "stream",
          "name": "stderr",
          "text": [
            "\n"
          ]
        },
        {
          "output_type": "stream",
          "name": "stdout",
          "text": [
            "Epoch: 3. Loss: 0.25\n"
          ]
        },
        {
          "output_type": "stream",
          "name": "stderr",
          "text": [
            "\r  0%|          | 0/18 [00:00<?, ?it/s]"
          ]
        },
        {
          "output_type": "stream",
          "name": "stdout",
          "text": [
            "torch.Size([128, 2, 2])\n",
            "torch.Size([128, 2, 2])\n",
            "torch.Size([128, 2, 2])\n",
            "torch.Size([128, 2, 2])\n",
            "torch.Size([128, 2, 2])\n"
          ]
        },
        {
          "output_type": "stream",
          "name": "stderr",
          "text": [
            "\r 28%|██▊       | 5/18 [00:00<00:00, 43.36it/s]"
          ]
        },
        {
          "output_type": "stream",
          "name": "stdout",
          "text": [
            "torch.Size([128, 2, 2])\n",
            "torch.Size([128, 2, 2])\n",
            "torch.Size([128, 2, 2])\n",
            "torch.Size([128, 2, 2])\n",
            "torch.Size([128, 2, 2])\n"
          ]
        },
        {
          "output_type": "stream",
          "name": "stderr",
          "text": [
            "\r 56%|█████▌    | 10/18 [00:00<00:00, 46.69it/s]"
          ]
        },
        {
          "output_type": "stream",
          "name": "stdout",
          "text": [
            "torch.Size([128, 2, 2])\n",
            "torch.Size([128, 2, 2])\n",
            "torch.Size([128, 2, 2])\n",
            "torch.Size([128, 2, 2])\n",
            "torch.Size([128, 2, 2])\n"
          ]
        },
        {
          "output_type": "stream",
          "name": "stderr",
          "text": [
            "100%|██████████| 18/18 [00:00<00:00, 46.26it/s]\n"
          ]
        },
        {
          "output_type": "stream",
          "name": "stdout",
          "text": [
            "torch.Size([128, 2, 2])\n",
            "torch.Size([128, 2, 2])\n",
            "torch.Size([128, 2, 2])\n",
            "Epoch: 4. Loss: 0.25\n"
          ]
        },
        {
          "output_type": "stream",
          "name": "stderr",
          "text": [
            "\r  0%|          | 0/18 [00:00<?, ?it/s]"
          ]
        },
        {
          "output_type": "stream",
          "name": "stdout",
          "text": [
            "torch.Size([128, 2, 2])\n",
            "torch.Size([128, 2, 2])\n",
            "torch.Size([128, 2, 2])\n",
            "torch.Size([128, 2, 2])\n"
          ]
        },
        {
          "output_type": "stream",
          "name": "stderr",
          "text": [
            "\r 28%|██▊       | 5/18 [00:00<00:00, 44.55it/s]"
          ]
        },
        {
          "output_type": "stream",
          "name": "stdout",
          "text": [
            "torch.Size([128, 2, 2])\n",
            "torch.Size([128, 2, 2])\n",
            "torch.Size([128, 2, 2])\n",
            "torch.Size([128, 2, 2])\n",
            "torch.Size([128, 2, 2])\n",
            "torch.Size([128, 2, 2])\n"
          ]
        },
        {
          "output_type": "stream",
          "name": "stderr",
          "text": [
            "\r 56%|█████▌    | 10/18 [00:00<00:00, 44.61it/s]"
          ]
        },
        {
          "output_type": "stream",
          "name": "stdout",
          "text": [
            "torch.Size([128, 2, 2])\n",
            "torch.Size([128, 2, 2])\n",
            "torch.Size([128, 2, 2])\n",
            "torch.Size([128, 2, 2])\n"
          ]
        },
        {
          "output_type": "stream",
          "name": "stderr",
          "text": [
            "\r 83%|████████▎ | 15/18 [00:00<00:00, 42.98it/s]"
          ]
        },
        {
          "output_type": "stream",
          "name": "stdout",
          "text": [
            "torch.Size([128, 2, 2])\n"
          ]
        },
        {
          "output_type": "stream",
          "name": "stderr",
          "text": [
            "\r100%|██████████| 18/18 [00:00<00:00, 43.86it/s]\n"
          ]
        },
        {
          "output_type": "stream",
          "name": "stdout",
          "text": [
            "torch.Size([128, 2, 2])\n",
            "torch.Size([128, 2, 2])\n",
            "torch.Size([128, 2, 2])\n",
            "Epoch: 5. Loss: 0.25\n"
          ]
        },
        {
          "output_type": "stream",
          "name": "stderr",
          "text": [
            "\r  0%|          | 0/18 [00:00<?, ?it/s]"
          ]
        },
        {
          "output_type": "stream",
          "name": "stdout",
          "text": [
            "torch.Size([128, 2, 2])\n",
            "torch.Size([128, 2, 2])\n",
            "torch.Size([128, 2, 2])\n",
            "torch.Size([128, 2, 2])\n",
            "torch.Size([128, 2, 2])\n"
          ]
        },
        {
          "output_type": "stream",
          "name": "stderr",
          "text": [
            "\r 28%|██▊       | 5/18 [00:00<00:00, 42.50it/s]"
          ]
        },
        {
          "output_type": "stream",
          "name": "stdout",
          "text": [
            "torch.Size([128, 2, 2])\n",
            "torch.Size([128, 2, 2])\n",
            "torch.Size([128, 2, 2])\n",
            "torch.Size([128, 2, 2])\n",
            "torch.Size([128, 2, 2])\n"
          ]
        },
        {
          "output_type": "stream",
          "name": "stderr",
          "text": [
            "\r 56%|█████▌    | 10/18 [00:00<00:00, 44.17it/s]"
          ]
        },
        {
          "output_type": "stream",
          "name": "stdout",
          "text": [
            "torch.Size([128, 2, 2])\n",
            "torch.Size([128, 2, 2])\n",
            "torch.Size([128, 2, 2])\n",
            "torch.Size([128, 2, 2])\n",
            "torch.Size([128, 2, 2])\n"
          ]
        },
        {
          "output_type": "stream",
          "name": "stderr",
          "text": [
            "\r 83%|████████▎ | 15/18 [00:00<00:00, 44.22it/s]"
          ]
        },
        {
          "output_type": "stream",
          "name": "stdout",
          "text": [
            "torch.Size([128, 2, 2])\n"
          ]
        },
        {
          "output_type": "stream",
          "name": "stderr",
          "text": [
            "\r100%|██████████| 18/18 [00:00<00:00, 44.32it/s]\n"
          ]
        },
        {
          "output_type": "stream",
          "name": "stdout",
          "text": [
            "torch.Size([128, 2, 2])\n",
            "torch.Size([128, 2, 2])\n",
            "Epoch: 6. Loss: 0.25\n"
          ]
        },
        {
          "output_type": "stream",
          "name": "stderr",
          "text": [
            "\r  0%|          | 0/18 [00:00<?, ?it/s]"
          ]
        },
        {
          "output_type": "stream",
          "name": "stdout",
          "text": [
            "torch.Size([128, 2, 2])\n",
            "torch.Size([128, 2, 2])\n",
            "torch.Size([128, 2, 2])\n",
            "torch.Size([128, 2, 2])\n"
          ]
        },
        {
          "output_type": "stream",
          "name": "stderr",
          "text": [
            "\r 28%|██▊       | 5/18 [00:00<00:00, 44.97it/s]"
          ]
        },
        {
          "output_type": "stream",
          "name": "stdout",
          "text": [
            "torch.Size([128, 2, 2])\n",
            "torch.Size([128, 2, 2])\n",
            "torch.Size([128, 2, 2])\n",
            "torch.Size([128, 2, 2])\n",
            "torch.Size([128, 2, 2])\n",
            "torch.Size([128, 2, 2])\n"
          ]
        },
        {
          "output_type": "stream",
          "name": "stderr",
          "text": [
            "\r 56%|█████▌    | 10/18 [00:00<00:00, 45.42it/s]"
          ]
        },
        {
          "output_type": "stream",
          "name": "stdout",
          "text": [
            "torch.Size([128, 2, 2])\n",
            "torch.Size([128, 2, 2])\n",
            "torch.Size([128, 2, 2])\n",
            "torch.Size([128, 2, 2])\n",
            "torch.Size([128, 2, 2])\n"
          ]
        },
        {
          "output_type": "stream",
          "name": "stderr",
          "text": [
            "\r 83%|████████▎ | 15/18 [00:00<00:00, 42.13it/s]"
          ]
        },
        {
          "output_type": "stream",
          "name": "stdout",
          "text": [
            "torch.Size([128, 2, 2])\n"
          ]
        },
        {
          "output_type": "stream",
          "name": "stderr",
          "text": [
            "\r100%|██████████| 18/18 [00:00<00:00, 43.31it/s]\n"
          ]
        },
        {
          "output_type": "stream",
          "name": "stdout",
          "text": [
            "torch.Size([128, 2, 2])\n",
            "torch.Size([128, 2, 2])\n",
            "Epoch: 7. Loss: 0.25\n"
          ]
        },
        {
          "output_type": "stream",
          "name": "stderr",
          "text": [
            "\r  0%|          | 0/18 [00:00<?, ?it/s]"
          ]
        },
        {
          "output_type": "stream",
          "name": "stdout",
          "text": [
            "torch.Size([128, 2, 2])\n",
            "torch.Size([128, 2, 2])\n",
            "torch.Size([128, 2, 2])\n",
            "torch.Size([128, 2, 2])\n"
          ]
        },
        {
          "output_type": "stream",
          "name": "stderr",
          "text": [
            "\r 28%|██▊       | 5/18 [00:00<00:00, 41.13it/s]"
          ]
        },
        {
          "output_type": "stream",
          "name": "stdout",
          "text": [
            "torch.Size([128, 2, 2])\n",
            "torch.Size([128, 2, 2])\n",
            "torch.Size([128, 2, 2])\n",
            "torch.Size([128, 2, 2])\n",
            "torch.Size([128, 2, 2])\n"
          ]
        },
        {
          "output_type": "stream",
          "name": "stderr",
          "text": [
            "\r 56%|█████▌    | 10/18 [00:00<00:00, 43.33it/s]"
          ]
        },
        {
          "output_type": "stream",
          "name": "stdout",
          "text": [
            "torch.Size([128, 2, 2])\n",
            "torch.Size([128, 2, 2])\n",
            "torch.Size([128, 2, 2])\n",
            "torch.Size([128, 2, 2])\n",
            "torch.Size([128, 2, 2])\n"
          ]
        },
        {
          "output_type": "stream",
          "name": "stderr",
          "text": [
            "\r 83%|████████▎ | 15/18 [00:00<00:00, 43.32it/s]"
          ]
        },
        {
          "output_type": "stream",
          "name": "stdout",
          "text": [
            "torch.Size([128, 2, 2])\n"
          ]
        },
        {
          "output_type": "stream",
          "name": "stderr",
          "text": [
            "\r100%|██████████| 18/18 [00:00<00:00, 43.48it/s]\n"
          ]
        },
        {
          "output_type": "stream",
          "name": "stdout",
          "text": [
            "torch.Size([128, 2, 2])\n",
            "torch.Size([128, 2, 2])\n",
            "torch.Size([128, 2, 2])\n",
            "Epoch: 8. Loss: 0.25\n"
          ]
        },
        {
          "output_type": "stream",
          "name": "stderr",
          "text": [
            "\r  0%|          | 0/18 [00:00<?, ?it/s]"
          ]
        },
        {
          "output_type": "stream",
          "name": "stdout",
          "text": [
            "torch.Size([128, 2, 2])\n",
            "torch.Size([128, 2, 2])\n",
            "torch.Size([128, 2, 2])\n",
            "torch.Size([128, 2, 2])\n",
            "torch.Size([128, 2, 2])\n"
          ]
        },
        {
          "output_type": "stream",
          "name": "stderr",
          "text": [
            "\r 28%|██▊       | 5/18 [00:00<00:00, 45.84it/s]"
          ]
        },
        {
          "output_type": "stream",
          "name": "stdout",
          "text": [
            "torch.Size([128, 2, 2])\n",
            "torch.Size([128, 2, 2])\n",
            "torch.Size([128, 2, 2])\n",
            "torch.Size([128, 2, 2])\n",
            "torch.Size([128, 2, 2])\n"
          ]
        },
        {
          "output_type": "stream",
          "name": "stderr",
          "text": [
            "\r 56%|█████▌    | 10/18 [00:00<00:00, 45.43it/s]"
          ]
        },
        {
          "output_type": "stream",
          "name": "stdout",
          "text": [
            "torch.Size([128, 2, 2])\n",
            "torch.Size([128, 2, 2])\n",
            "torch.Size([128, 2, 2])\n",
            "torch.Size([128, 2, 2])\n",
            "torch.Size([128, 2, 2])\n"
          ]
        },
        {
          "output_type": "stream",
          "name": "stderr",
          "text": [
            "\r 83%|████████▎ | 15/18 [00:00<00:00, 44.98it/s]"
          ]
        },
        {
          "output_type": "stream",
          "name": "stdout",
          "text": [
            "torch.Size([128, 2, 2])\n"
          ]
        },
        {
          "output_type": "stream",
          "name": "stderr",
          "text": [
            "\r100%|██████████| 18/18 [00:00<00:00, 45.10it/s]"
          ]
        },
        {
          "output_type": "stream",
          "name": "stdout",
          "text": [
            "torch.Size([128, 2, 2])\n",
            "torch.Size([128, 2, 2])\n",
            "Epoch: 9. Loss: 0.25\n"
          ]
        },
        {
          "output_type": "stream",
          "name": "stderr",
          "text": [
            "\n"
          ]
        }
      ]
    },
    {
      "cell_type": "code",
      "source": [
        "# testing\n",
        "\n",
        "correct = 0\n",
        "total = 0\n",
        "with torch.no_grad():\n",
        "    for i in tqdm(range(len(test_X))):\n",
        "        real_class = torch.argmax(test_y[i])\n",
        "        net_out = net(test_X[i].view(-1, 1, 50, 50))[0]  # returns a list, \n",
        "        predicted_class = torch.argmax(net_out)\n",
        "\n",
        "        if predicted_class == real_class:\n",
        "            correct += 1\n",
        "        total += 1\n",
        "print(\"Accuracy: \", round(correct/total, 3))"
      ],
      "metadata": {
        "colab": {
          "base_uri": "https://localhost:8080/"
        },
        "id": "UkjbTygrFnLX",
        "outputId": "823b9776-d512-4995-86d8-1adf41d0bc08"
      },
      "execution_count": 15,
      "outputs": [
        {
          "output_type": "stream",
          "name": "stderr",
          "text": [
            "100%|██████████| 36/36 [00:00<00:00, 263.90it/s]"
          ]
        },
        {
          "output_type": "stream",
          "name": "stdout",
          "text": [
            "torch.Size([128, 2, 2])\n",
            "torch.Size([128, 2, 2])\n",
            "torch.Size([128, 2, 2])\n",
            "torch.Size([128, 2, 2])\n",
            "torch.Size([128, 2, 2])\n",
            "torch.Size([128, 2, 2])\n",
            "torch.Size([128, 2, 2])\n",
            "torch.Size([128, 2, 2])\n",
            "torch.Size([128, 2, 2])\n",
            "torch.Size([128, 2, 2])\n",
            "torch.Size([128, 2, 2])\n",
            "torch.Size([128, 2, 2])\n",
            "torch.Size([128, 2, 2])\n",
            "torch.Size([128, 2, 2])\n",
            "torch.Size([128, 2, 2])\n",
            "torch.Size([128, 2, 2])\n",
            "torch.Size([128, 2, 2])\n",
            "torch.Size([128, 2, 2])\n",
            "torch.Size([128, 2, 2])\n",
            "torch.Size([128, 2, 2])\n",
            "torch.Size([128, 2, 2])\n",
            "torch.Size([128, 2, 2])\n",
            "torch.Size([128, 2, 2])\n",
            "torch.Size([128, 2, 2])\n",
            "torch.Size([128, 2, 2])\n",
            "torch.Size([128, 2, 2])\n",
            "torch.Size([128, 2, 2])\n",
            "torch.Size([128, 2, 2])\n",
            "torch.Size([128, 2, 2])\n",
            "torch.Size([128, 2, 2])\n",
            "torch.Size([128, 2, 2])\n",
            "torch.Size([128, 2, 2])\n",
            "torch.Size([128, 2, 2])\n",
            "torch.Size([128, 2, 2])\n",
            "torch.Size([128, 2, 2])\n",
            "torch.Size([128, 2, 2])\n",
            "Accuracy:  0.5\n"
          ]
        },
        {
          "output_type": "stream",
          "name": "stderr",
          "text": [
            "\n"
          ]
        }
      ]
    },
    {
      "cell_type": "code",
      "source": [
        "def fwd_pass(X, y, train=False):\n",
        "  if train:\n",
        "    net.zero_grad()\n",
        "  outputs = net(X)\n",
        "  matches = [torch.argmax(i) == torch.argmax(j) for i, j in zip(outputs, y)]\n",
        "  acc = matches.count(True)/len(matches)\n",
        "  loss = loss_function(outputs, y)\n",
        "\n",
        "  if train:\n",
        "    loss.backward()\n",
        "    optimizer.step()\n",
        "  return acc, loss"
      ],
      "metadata": {
        "id": "-rkw6AiTSAtQ"
      },
      "execution_count": 16,
      "outputs": []
    },
    {
      "cell_type": "code",
      "source": [
        "def test(size=32):\n",
        "  random_start = np.random.randint(len(test_X)-size)\n",
        "  X, y = test_X[random_start:random_start+size], test_y[random_start:random_start+size]\n",
        "  with torch.no_grad():\n",
        "    val_acc, val_loss = fwd_pass(X.view(-1, 1, 50, 50), y)\n",
        "  return val_acc, val_loss\n",
        "  \n",
        "val_acc, val_loss = test(size=32)\n",
        "print(val_acc, val_loss)"
      ],
      "metadata": {
        "colab": {
          "base_uri": "https://localhost:8080/"
        },
        "id": "EgxSz7fZYgKz",
        "outputId": "ddb4af21-a26a-4cbe-a97f-27a1d42cfa19"
      },
      "execution_count": 23,
      "outputs": [
        {
          "output_type": "stream",
          "name": "stdout",
          "text": [
            "torch.Size([128, 2, 2])\n",
            "0.46875 tensor(0.2500)\n"
          ]
        }
      ]
    },
    {
      "cell_type": "code",
      "source": [
        "import time\n",
        "MODEL_NAME = f\"model-{int(time.time())}\"\n",
        "\n",
        "net = Net()\n",
        "optimizer = optim.Adam(net.parameters(), lr=0.001)\n",
        "loss_function = nn.MSELoss()\n",
        "\n",
        "def train():\n",
        "  BATCH_SIZE = 2\n",
        "  EPOCHS = 10\n",
        "  with open(\"model.log\", \"a\") as f:\n",
        "    for epoch in range(EPOCHS):\n",
        "      for i in tqdm(range(0, len(train_X), BATCH_SIZE)):\n",
        "        batch_X = train_X[i:i+BATCH_SIZE].view(-1, 1, 50, 50)\n",
        "        batch_Y = train_y[i:i+BATCH_SIZE]\n",
        "        acc, loss = fwd_pass(batch_X, batch_y, train=True)\n",
        "        if i%50 == 0:\n",
        "          val_acc, val_loss = test(size=100)\n",
        "          print(val_acc)\n",
        "          f.write(f\"{MODEL_NAME},{round(time.time(),3)},{round(float(acc),2)},{round(float(loss),4)},{round(float(val_acc),2)},{round(float(val_loss),4)}\\n\")\n"
      ],
      "metadata": {
        "colab": {
          "base_uri": "https://localhost:8080/"
        },
        "id": "77VcQXcFeAVE",
        "outputId": "7eeec910-60c3-4e92-9aa4-1894335ab355"
      },
      "execution_count": 26,
      "outputs": [
        {
          "output_type": "stream",
          "name": "stdout",
          "text": [
            "torch.Size([128, 2, 2])\n"
          ]
        }
      ]
    }
  ]
}